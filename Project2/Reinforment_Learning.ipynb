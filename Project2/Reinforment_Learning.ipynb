{
 "cells": [
  {
   "cell_type": "code",
   "execution_count": 1,
   "metadata": {
    "collapsed": false
   },
   "outputs": [],
   "source": [
    "# Dependencies\n",
    "import sys\n",
    "import pylab as plb\n",
    "import numpy as np\n",
    "import mountaincar\n",
    "import DummyAgent as DA\n",
    "import NeuralAgent_v1 as NA1"
   ]
  },
  {
   "cell_type": "markdown",
   "metadata": {},
   "source": [
    "### Let's RUN IT!"
   ]
  },
  {
   "cell_type": "code",
   "execution_count": null,
   "metadata": {
    "collapsed": false
   },
   "outputs": [],
   "source": [
    "d = DA.DummyAgent()\n",
    "d.visualize_trial()\n",
    "plb.show()"
   ]
  },
  {
   "cell_type": "markdown",
   "metadata": {},
   "source": [
    "# With our own agent"
   ]
  },
  {
   "cell_type": "code",
   "execution_count": 2,
   "metadata": {
    "collapsed": false
   },
   "outputs": [
    {
     "name": "stdout",
     "output_type": "stream",
     "text": [
      "[-150.         -146.32653061 -142.65306122 -138.97959184 -135.30612245\n",
      " -131.63265306 -127.95918367 -124.28571429 -120.6122449  -116.93877551\n",
      " -113.26530612 -109.59183673 -105.91836735 -102.24489796  -98.57142857\n",
      "  -94.89795918  -91.2244898   -87.55102041  -83.87755102  -80.20408163\n",
      "  -76.53061224  -72.85714286  -69.18367347  -65.51020408  -61.83673469\n",
      "  -58.16326531  -54.48979592  -50.81632653  -47.14285714  -43.46938776\n",
      "  -39.79591837  -36.12244898  -32.44897959  -28.7755102   -25.10204082\n",
      "  -21.42857143  -17.75510204  -14.08163265  -10.40816327   -6.73469388\n",
      "   -3.06122449    0.6122449     4.28571429    7.95918367   11.63265306\n",
      "   15.30612245   18.97959184   22.65306122   26.32653061   30.        ]\n",
      "3.67346938776\n",
      "[-15.         -14.3877551  -13.7755102  -13.16326531 -12.55102041\n",
      " -11.93877551 -11.32653061 -10.71428571 -10.10204082  -9.48979592\n",
      "  -8.87755102  -8.26530612  -7.65306122  -7.04081633  -6.42857143\n",
      "  -5.81632653  -5.20408163  -4.59183673  -3.97959184  -3.36734694\n",
      "  -2.75510204  -2.14285714  -1.53061224  -0.91836735  -0.30612245\n",
      "   0.30612245   0.91836735   1.53061224   2.14285714   2.75510204\n",
      "   3.36734694   3.97959184   4.59183673   5.20408163   5.81632653\n",
      "   6.42857143   7.04081633   7.65306122   8.26530612   8.87755102\n",
      "   9.48979592  10.10204082  10.71428571  11.32653061  11.93877551\n",
      "  12.55102041  13.16326531  13.7755102   14.3877551   15.        ]\n",
      "0.612244897959\n"
     ]
    }
   ],
   "source": [
    "n_neurons = 50 # Actually a n_neuros x n_neurons grid\n",
    "tau = 0.5 #Exploration temperature parameter\n",
    "eta = 0.1 #Learning rate\n",
    "gamma = 0.95 #Reward factor\n",
    "lambda_eligibility = 0.95 #elegibility decay\n",
    "a = NA1.NeuralAgent(n_neurons,tau,eta,gamma,lambda_eligibility)"
   ]
  },
  {
   "cell_type": "code",
   "execution_count": 3,
   "metadata": {
    "collapsed": false
   },
   "outputs": [
    {
     "name": "stdout",
     "output_type": "stream",
     "text": [
      "Starting trial at position (-60.850639640409256,-4.371487777962643)\n"
     ]
    },
    {
     "name": "stderr",
     "output_type": "stream",
     "text": [
      "C:\\Users\\dunay\\Desktop\\Github Desktop\\my_unsupNN\\Project2\\NeuralAgent_v1.py:181: FutureWarning: comparison to `None` will result in an elementwise object comparison in the future.\n",
      "  if self.action_old != None:\n"
     ]
    },
    {
     "name": "stdout",
     "output_type": "stream",
     "text": [
      "[ 0.          0.38400731  0.        ]\n",
      "1834\n",
      "Starting trial at position (-119.64055155962728,4.450469798365173)\n",
      "[ 0.00101315  0.38176644  0.37630095]\n",
      "914\n",
      "Starting trial at position (-61.45533802612255,-0.11951815822644019)\n",
      "[ 0.42708336  0.42498798  0.32796795]\n",
      "1380\n",
      "Starting trial at position (-113.56280725700807,2.812732154920436)\n",
      "[ 0.77547511  0.44343386  0.34165459]\n",
      "1323\n",
      "Starting trial at position (-112.73347635358354,3.111215270745655)\n",
      "[ 1.11990491  0.50657216  0.34528266]\n",
      "372\n",
      "Starting trial at position (-92.44722077683569,1.0159930908891432)\n",
      "[ 1.11516572  0.94343072  0.35970832]\n",
      "1436\n",
      "Starting trial at position (-105.23841726834615,3.2486194054624793)\n",
      "[ 1.01086806  1.35565395  0.43421987]\n",
      "795\n",
      "Starting trial at position (-54.13001228845761,3.7753498011900035)\n",
      "[ 1.39551844  1.41175253  0.43436404]\n",
      "3260\n",
      "Starting trial at position (-106.26487093198503,-0.1896750295007843)\n",
      "[ 1.3486824   1.82151188  0.48333691]\n",
      "3466\n",
      "Starting trial at position (-107.56178532544536,4.613752026305029)\n",
      "[ 1.34111957  2.26298314  0.51532546]\n",
      "4169\n",
      "Starting trial at position (-53.84588312897857,-3.8048444943576634)\n",
      "[ 1.34262322  2.24893942  0.92015355]\n",
      "964\n",
      "Starting trial at position (-122.39398591100128,-0.4559492173883726)\n",
      "[ 1.34864641  2.57542291  1.03245414]\n",
      "2258\n",
      "Starting trial at position (-80.37304351587494,1.0263503825972276)\n",
      "[ 1.76751334  2.55895946  1.03700422]\n",
      "4952\n",
      "Starting trial at position (-59.47783329277152,2.099136657839754)\n",
      "[ 2.17726013  2.51854462  1.04655451]\n",
      "8227\n",
      "Starting trial at position (-98.57257241852642,4.231913650631892)\n",
      "[ 2.25126416  2.91547933  1.07909566]\n",
      "8119\n",
      "Starting trial at position (-112.81630102156335,-1.4239022715150353)\n",
      "[ 2.21192638  2.94360607  1.6180283 ]\n",
      "326\n",
      "Starting trial at position (-116.5212291094308,0.8135872848182322)\n",
      "[ 2.27272375  2.92692925  2.04321919]\n",
      "2087\n",
      "Starting trial at position (-65.093461052611,-1.6852652457026371)\n",
      "[ 2.73852008  2.9086966   2.00463591]\n",
      "4919\n",
      "Starting trial at position (-98.36465129288399,4.865421944253132)\n",
      "[ 2.7586673   3.25797514  1.99531308]\n",
      "2121\n",
      "Starting trial at position (-56.305590954459774,-4.168767120354842)\n",
      "[ 2.7997947   3.66016185  2.02307552]\n",
      "226\n",
      "Starting trial at position (-65.83890294541318,1.5755211906647535)\n",
      "[ 3.17772321  3.63013464  2.10354742]\n",
      "2220\n",
      "Starting trial at position (-54.459293038736774,2.3001874142916794)\n",
      "[ 3.32642722  3.4948885   2.46098169]\n",
      "1950\n",
      "Starting trial at position (-117.60475047300358,-4.3419529273724855)\n",
      "[ 3.76223267  3.5471701   2.48118601]\n",
      "7061\n",
      "Starting trial at position (-64.33820202585261,3.613256625624956)\n",
      "[ 3.78704355  3.60252206  2.92710245]\n",
      "2554\n",
      "Starting trial at position (-118.19473670879472,-4.722380652987853)\n",
      "[ 3.80693983  4.097309    2.91307413]\n",
      "12466\n",
      "Starting trial at position (-108.32115725481387,3.087508807904827)\n",
      "[ 4.13515711  4.07601872  3.0830158 ]\n",
      "3479\n",
      "Starting trial at position (-106.22176288186552,-1.2022121394540708)\n",
      "[ 4.45339842  3.97659236  3.24690654]\n",
      "3280\n",
      "Starting trial at position (-111.67533716498141,1.8881129017927538)\n",
      "[ 4.78667309  3.98469092  3.33692341]\n",
      "6176\n",
      "Starting trial at position (-127.50749366668396,-4.810864323440562)\n",
      "[ 4.89757923  3.86416709  3.71693226]\n",
      "587\n",
      "Starting trial at position (-112.84812696306965,-2.1248852176852595)\n",
      "[ 4.87741392  4.453571    3.71481331]\n",
      "2376\n",
      "Starting trial at position (-90.00875665051507,0.6845475920187987)\n",
      "[ 5.28346071  4.55152506  3.72911567]\n",
      "2546\n",
      "Starting trial at position (-122.28883698156199,1.7657750580044427)\n",
      "[ 5.28870923  4.53677927  4.09319313]\n",
      "2183\n",
      "Starting trial at position (-65.20405269549457,-2.342558106789707)\n",
      "[ 5.28845126  4.89012694  4.08772509]\n",
      "3014\n",
      "Starting trial at position (-102.75242548208288,0.20363895442555524)\n",
      "[ 5.55378527  4.95562181  4.22087398]\n",
      "416\n",
      "Starting trial at position (-99.02044004614828,0.5704564060681871)\n",
      "[ 5.9758234   4.97376314  4.26478062]\n",
      "4111\n",
      "Starting trial at position (-50.585072674314645,2.80154231950182)\n",
      "[ 5.9784879   4.98907721  4.6277894 ]\n",
      "6031\n",
      "Starting trial at position (-51.81164749000513,2.748716927488112)\n",
      "[ 5.97258583  5.54573787  4.63050435]\n",
      "1795\n",
      "Starting trial at position (-59.61964332597036,-1.253009720983369)\n",
      "[ 5.98809275  5.52867361  5.15732777]\n",
      "702\n",
      "Starting trial at position (-59.055651953036644,-0.7533005808538089)\n",
      "[ 6.1798786   5.79056056  5.14639632]\n",
      "7564\n",
      "Starting trial at position (-66.13187715739386,0.7348169168399634)\n",
      "[ 6.2518841   6.25947362  5.10450094]\n",
      "2029\n",
      "Starting trial at position (-103.66761829653572,-2.864326830082283)\n",
      "[ 6.27203783  6.69453111  5.12675494]\n",
      "995\n",
      "Starting trial at position (-95.9243001282164,0.7102376989077799)\n",
      "[ 6.34759327  7.1365569   5.1707932 ]\n",
      "4439\n",
      "Starting trial at position (-92.52057200133908,-2.7818252965674786)\n",
      "[ 6.25244152  7.14563481  5.66538648]\n",
      "1642\n",
      "Starting trial at position (-78.61685168321218,3.8229031127854256)\n",
      "[ 6.28106097  7.1249384   6.01984061]\n",
      "2206\n",
      "Starting trial at position (-93.48598505849384,-2.289368382918471)\n",
      "[ 6.24512895  7.58579131  6.1570464 ]\n",
      "1952\n",
      "Starting trial at position (-87.15594853384138,-4.411522052423936)\n",
      "[ 6.24778885  7.92243677  6.15519062]\n",
      "3591\n",
      "Starting trial at position (-112.07456618892179,1.2434727080032957)\n",
      "[ 6.49638779  7.68144082  6.59521028]\n",
      "1853\n",
      "Starting trial at position (-103.7499279182396,-1.0863204723383624)\n",
      "[ 6.52103471  8.21241052  6.54200244]\n",
      "2471\n",
      "Starting trial at position (-94.6898050084331,2.531349434979118)\n",
      "[ 6.67423838  8.5631674   6.59157101]\n",
      "1444\n",
      "Starting trial at position (-103.61505330305886,4.377506962708903)\n",
      "[ 6.74571576  8.41311569  7.05892625]\n",
      "250\n",
      "[  1834.    914.   1380.   1323.    372.   1436.    795.   3260.   3466.\n",
      "   4169.    964.   2258.   4952.   8227.   8119.    326.   2087.   4919.\n",
      "   2121.    226.   2220.   1950.   7061.   2554.  12466.   3479.   3280.\n",
      "   6176.    587.   2376.   2546.   2183.   3014.    416.   4111.   6031.\n",
      "   1795.    702.   7564.   2029.    995.   4439.   1642.   2206.   1952.\n",
      "   3591.   1853.   2471.   1444.    250.]\n"
     ]
    }
   ],
   "source": [
    "N_trials = 50\n",
    "N_runs=1\n",
    "max_steps = 100000 #Save stop if not working well\n",
    "latencies = a.run(N_trials,N_runs,max_steps)\n",
    "print(latencies)"
   ]
  },
  {
   "cell_type": "code",
   "execution_count": null,
   "metadata": {
    "collapsed": false
   },
   "outputs": [],
   "source": [
    "a.visualize_trial()\n",
    "plb.show()"
   ]
  },
  {
   "cell_type": "code",
   "execution_count": null,
   "metadata": {
    "collapsed": true
   },
   "outputs": [],
   "source": []
  }
 ],
 "metadata": {
  "anaconda-cloud": {},
  "kernelspec": {
   "display_name": "Python [conda root]",
   "language": "python",
   "name": "conda-root-py"
  },
  "language_info": {
   "codemirror_mode": {
    "name": "ipython",
    "version": 3
   },
   "file_extension": ".py",
   "mimetype": "text/x-python",
   "name": "python",
   "nbconvert_exporter": "python",
   "pygments_lexer": "ipython3",
   "version": "3.5.2"
  }
 },
 "nbformat": 4,
 "nbformat_minor": 1
}
