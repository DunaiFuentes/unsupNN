{
 "cells": [
  {
   "cell_type": "markdown",
   "metadata": {},
   "source": [
    "# MiniProject 1: Clustering MNIST with Kohonen Maps"
   ]
  },
  {
   "cell_type": "markdown",
   "metadata": {},
   "source": [
    "Our goal is to implement the Kohonen algorithm (or self-organizing map) and apply\n",
    "it to a data set of hand-written digits. The advantage of the data set is that it is easy\n",
    "to visualize, so that you can easily control the performance of the algorithm by visual\n",
    "inspection."
   ]
  },
  {
   "cell_type": "code",
   "execution_count": 15,
   "metadata": {
    "collapsed": true
   },
   "outputs": [],
   "source": [
    "import numpy as np\n",
    "import scipy.spatial.distance as distm\n",
    "import matplotlib.pylab as plb\n",
    "from sklearn.model_selection import train_test_split \n",
    "from sklearn.metrics import accuracy_score\n",
    "import seaborn as sns\n",
    "sns.set()\n",
    "%matplotlib inline"
   ]
  },
  {
   "cell_type": "markdown",
   "metadata": {},
   "source": [
    "### 1. Loading MNIST"
   ]
  },
  {
   "cell_type": "code",
   "execution_count": 2,
   "metadata": {
    "collapsed": false
   },
   "outputs": [],
   "source": [
    "# load in data and labels    \n",
    "data = np.array(np.loadtxt('Resources/data.txt'))\n",
    "labels = np.loadtxt('Resources/labels.txt')"
   ]
  },
  {
   "cell_type": "markdown",
   "metadata": {},
   "source": [
    "Actually, we are not going to work with the 10 different digits from MNIST, only with 4 of them. They choice of digits is made by provided \"name2digits\" function that we define below. The name of choice four our experiment is \"Dunai Vidit\", an aggregation of our two names."
   ]
  },
  {
   "cell_type": "code",
   "execution_count": 3,
   "metadata": {
    "collapsed": true
   },
   "outputs": [],
   "source": [
    "def name2digits(name):\n",
    "    \"\"\" takes a string NAME and converts it into a pseudo-random selection of 4\n",
    "     digits from 0-9.\n",
    "     \n",
    "     Example:\n",
    "     name2digits('Felipe Gerhard')\n",
    "     returns: [0 4 5 7]\n",
    "     \"\"\"\n",
    "    \n",
    "    name = name.lower()\n",
    "    \n",
    "    if len(name)>25:\n",
    "        name = name[0:25]\n",
    "        \n",
    "    primenumbers = [2,3,5,7,11,13,17,19,23,29,31,37,41,43,47,53,59,61,67,71,73,79,83,89,97]\n",
    "    \n",
    "    n = len(name)\n",
    "    \n",
    "    s = 0.0\n",
    "    \n",
    "    for i in range(n):\n",
    "        s += primenumbers[i]*ord(name[i])*2.0**(i+1)\n",
    "\n",
    "    import scipy.io.matlab\n",
    "    Data = scipy.io.matlab.loadmat('Resources/hash.mat',struct_as_record=True)\n",
    "    x = Data['x']\n",
    "    t = np.mod(s,x.shape[0])\n",
    "\n",
    "    return np.sort(x[t,:])"
   ]
  },
  {
   "cell_type": "code",
   "execution_count": 4,
   "metadata": {
    "collapsed": false
   },
   "outputs": [
    {
     "name": "stdout",
     "output_type": "stream",
     "text": [
      "[1 4 5 6]\n"
     ]
    },
    {
     "name": "stderr",
     "output_type": "stream",
     "text": [
      "C:\\Users\\dunay\\Anaconda3\\lib\\site-packages\\ipykernel\\__main__.py:29: VisibleDeprecationWarning: using a non-integer number instead of an integer will result in an error in the future\n"
     ]
    }
   ],
   "source": [
    " # select 4 digits    \n",
    "name = 'Dunai Vidit' # REPLACE BY YOUR OWN NAME\n",
    "targetdigits = name2digits(name) # assign the four digits that should be used\n",
    "print(targetdigits) # output the digits that were selected"
   ]
  },
  {
   "cell_type": "markdown",
   "metadata": {},
   "source": [
    "Next we filter our data by the given digits \"1,4,5,6\""
   ]
  },
  {
   "cell_type": "code",
   "execution_count": 5,
   "metadata": {
    "collapsed": false
   },
   "outputs": [],
   "source": [
    " # this selects all data vectors that corresponds to one of the four digits\n",
    "data = data[np.logical_or.reduce([labels==x for x in targetdigits]),:]\n",
    "labels = labels[np.logical_or.reduce([labels==x for x in targetdigits])]\n",
    "data, data_test, labels, labels_test = train_test_split(data, labels, test_size=0.2, random_state=42)\n",
    "\n",
    "dy, dx = data.shape"
   ]
  },
  {
   "cell_type": "markdown",
   "metadata": {},
   "source": [
    "### 2. Defining the functions"
   ]
  },
  {
   "cell_type": "markdown",
   "metadata": {},
   "source": [
    "First the neighbouring function"
   ]
  },
  {
   "cell_type": "code",
   "execution_count": 6,
   "metadata": {
    "collapsed": true
   },
   "outputs": [],
   "source": [
    "def gauss(x,p):\n",
    "    \"\"\"Return the gauss function N(x), with mean p[0] and std p[1].\n",
    "    Normalized such that N(x=p[0]) = 1.\n",
    "    \"\"\"\n",
    "    return np.exp((-(x - p[0])**2) / (2 * p[1]**2))"
   ]
  },
  {
   "cell_type": "markdown",
   "metadata": {},
   "source": [
    "For the iterative algorithm"
   ]
  },
  {
   "cell_type": "code",
   "execution_count": 7,
   "metadata": {
    "collapsed": true
   },
   "outputs": [],
   "source": [
    "def som_step(centers,data,neighbor,eta,sigma):\n",
    "    \"\"\"Performs one step of the sequential learning for a \n",
    "    self-organized map (SOM).\n",
    "    \n",
    "      centers = som_step(centers,data,neighbor,eta,sigma)\n",
    "    \n",
    "      Input and output arguments: \n",
    "       centers  (matrix) cluster centres. Have to be in format:\n",
    "                         center X dimension\n",
    "       data     (vector) the actually presented datapoint to be presented in\n",
    "                         this timestep\n",
    "       neighbor (matrix) the coordinates of the centers in the desired\n",
    "                         neighborhood.\n",
    "       eta      (scalar) a learning rate\n",
    "       sigma    (scalar) the width of the gaussian neighborhood function.\n",
    "                         Effectively describing the width of the neighborhood\n",
    "    \"\"\"\n",
    "    \n",
    "    size_k = int(np.sqrt(len(centers)))\n",
    "    \n",
    "    #find the best matching unit via the minimal distance to the datapoint\n",
    "    b = np.argmin(np.sum((centers - np.resize(data, (size_k**2, data.size)))**2,1))\n",
    "\n",
    "    # find coordinates of the winner\n",
    "    a,b = np.nonzero(neighbor == b)\n",
    "        \n",
    "    # update all units\n",
    "    for j in range(size_k**2):\n",
    "        # find coordinates of this unit\n",
    "        a1,b1 = np.nonzero(neighbor==j)\n",
    "        # calculate the distance and discounting factor\n",
    "        disc=gauss(np.sqrt((a-a1)**2+(b-b1)**2),[0, sigma])\n",
    "        # update weights        \n",
    "        centers[j,:] += disc * eta * (data - centers[j,:])"
   ]
  },
  {
   "cell_type": "markdown",
   "metadata": {},
   "source": [
    "And finally for the kohonen parameter definition and main function"
   ]
  },
  {
   "cell_type": "code",
   "execution_count": 8,
   "metadata": {
    "collapsed": false
   },
   "outputs": [
    {
     "data": {
      "text/plain": [
       "\"\\n\\n    # for visualization, you can use this:\\n    for i in range(size_k**2):\\n        plb.subplot(size_k,size_k,i+1)\\n        \\n        plb.imshow(np.reshape(centers[i,:], [28, 28]),interpolation='bilinear')\\n        plb.axis('off')\\n        \\n    # leave the window open at the end of the loop\\n    plb.show()\\n    plb.draw()\\n    \""
      ]
     },
     "execution_count": 8,
     "metadata": {},
     "output_type": "execute_result"
    }
   ],
   "source": [
    "def kohonen_eta():\n",
    "    \n",
    "    \"\"\"Example for using create_data, plot_data and som_step.\n",
    "    \"\"\"\n",
    "    plb.close('all')\n",
    "    \n",
    "    \n",
    "    dim = 28*28\n",
    "    data_range = 255.0\n",
    "    \n",
    "    #set the size of the Kohonen map. In this case it will be 6 X 6\n",
    "    size_k = 6\n",
    "    \n",
    "    start = 0\n",
    "    stop = -3\n",
    "    eta_list = np.logspace(start,stop, 5)\n",
    "    for j, eta in enumerate(eta_list):\n",
    "        print(eta)\n",
    "\n",
    "    \n",
    "        #set the width of the neighborhood via the width of the gaussian that\n",
    "        #describes it\n",
    "        sigma = 3.0\n",
    "\n",
    "        #initialise the centers randomly\n",
    "        centers = np.random.rand(size_k**2, dim) * data_range\n",
    "\n",
    "        #build a neighborhood matrix\n",
    "        neighbor = np.arange(size_k**2).reshape((size_k, size_k))\n",
    "\n",
    "        #set the learning rate\n",
    "        # eta = 0.01 # HERE YOU HAVE TO SET YOUR OWN LEARNING RATE\n",
    "\n",
    "        #set the maximal iteration count\n",
    "        tmax = 6000 # this might or might not work; use your own convergence criterion\n",
    "\n",
    "        #set the random order in which the datapoints should be presented\n",
    "        i_random = np.arange(tmax) % dy\n",
    "        np.random.shuffle(i_random)\n",
    "\n",
    "        deltacenters = list()\n",
    "        error = list()\n",
    "        ini_centers = 0\n",
    "\n",
    "        for t, i in enumerate(i_random):\n",
    "            ini_centers = centers.copy()\n",
    "            som_step(centers, data[i,:],neighbor,eta,sigma)\n",
    "            deltacenters.append(np.mean(np.linalg.norm(ini_centers - centers, axis=1)))\n",
    "            error.append(np.mean(np.linalg.norm(ini_centers - centers, axis=1))/eta)\n",
    "            \n",
    "        plb.subplot(len(eta_list),1,j+1)\n",
    "        plb.plot(error)\n",
    "    \n",
    "'''\n",
    "\n",
    "    # for visualization, you can use this:\n",
    "    for i in range(size_k**2):\n",
    "        plb.subplot(size_k,size_k,i+1)\n",
    "        \n",
    "        plb.imshow(np.reshape(centers[i,:], [28, 28]),interpolation='bilinear')\n",
    "        plb.axis('off')\n",
    "        \n",
    "    # leave the window open at the end of the loop\n",
    "    plb.show()\n",
    "    plb.draw()\n",
    "    '''"
   ]
  },
  {
   "cell_type": "code",
   "execution_count": 9,
   "metadata": {
    "collapsed": true
   },
   "outputs": [],
   "source": [
    "def kohonen():\n",
    "    \"\"\"Example for using create_data, plot_data and som_step.\n",
    "    \"\"\"\n",
    "    plb.close('all')\n",
    "    \n",
    "    \n",
    "    dim = 28*28\n",
    "    data_range = 255.0\n",
    "     \n",
    "    #default values\n",
    "\n",
    "    #set the width of the neighborhood via the width of the gaussian that\n",
    "    #describes it\n",
    "    sigma = 0.7\n",
    "\n",
    "    #set the learning rate\n",
    "    eta = 0.03 # HERE YOU HAVE TO SET YOUR OWN LEARNING RATE\n",
    "\n",
    "    #set the maximal iteration count\n",
    "    tmax = 10000 # this might or might not work; use your own convergence criterion\n",
    "\n",
    "\n",
    "\n",
    "    #set the size of the Kohonen map. In this case it will be 6 X 6\n",
    "    size_k = 6\n",
    "\n",
    "\n",
    "\n",
    "    #initialise the centers randomly\n",
    "    centers = np.random.rand(size_k**2, dim) * data_range\n",
    "\n",
    "#     #choose centers as one of the points\n",
    "#     indx = np.arange(dy)\n",
    "#     np.random.shuffle(indx)\n",
    "#     indx = indx[0:36]\n",
    "#     centers = data[indx,:]\n",
    "\n",
    "    #build a neighborhood matrix\n",
    "    neighbor = np.arange(size_k**2).reshape((size_k, size_k))\n",
    "\n",
    "\n",
    "    #set the random order in which the datapoints should be presented\n",
    "    i_random = np.arange(tmax) % dy\n",
    "    np.random.shuffle(i_random)\n",
    "\n",
    "    for t, i in enumerate(i_random):\n",
    "        prev_centers =  centers\n",
    "        som_step(centers, data[i,:],neighbor,eta,sigma)\n",
    "        delta =  np.linalg.norm(centers - prev_centers,axis = 1)\n",
    "\n",
    "\n",
    "    unit_label = labels[np.argmin(distm.cdist(centers,data),axis=1)]\n",
    "\n",
    "    print(np.resize(unit_label,(size_k,size_k)))\n",
    "    \n",
    "    # for visualization, you can use this:\n",
    "    for i in range(size_k**2):\n",
    "        plb.subplot(size_k,size_k,i+1)\n",
    "        plb.imshow(np.reshape(centers[i,:], [28, 28]),interpolation='bilinear')\n",
    "        plb.axis('off')\n",
    "\n",
    "    # leave the window open at the end of the loop\n",
    "    plb.show()\n",
    "    plb.draw()\n",
    "    \n",
    "   \n",
    "    labels_pred = unit_label[np.argmin(distm.cdist(data_test,centers),axis=1)]\n",
    "    mean_accuracy = accuracy_score(labels_test,labels_pred)\n",
    "    print(\"Mean Accuracy {}\".format(mean_accuracy))"
   ]
  },
  {
   "cell_type": "code",
   "execution_count": 17,
   "metadata": {
    "collapsed": true
   },
   "outputs": [],
   "source": [
    "def kohonen_grid(l_sigma,l_size):\n",
    "    \"\"\"Example for using create_data, plot_data and som_step.\n",
    "    \"\"\"\n",
    "    plb.close('all')\n",
    "    \n",
    "\n",
    "    dim = 28*28\n",
    "    data_range = 255.0\n",
    "    mean_accuracy = np.empty([len(l_sigma),len(l_size)])\n",
    "    \n",
    "    for ii,sigma in enumerate(l_sigma):\n",
    "\n",
    "        for jj,size_k in enumerate(l_size):\n",
    "            print('Running for Sigma{}:{} and Unit Size{}:{}'.format(ii,sigma,jj,size_k))\n",
    "            \n",
    "            #default values\n",
    "\n",
    "            #set the width of the neighborhood via the width of the gaussian that\n",
    "            #describes it\n",
    "        #     sigma = 0.7\n",
    "\n",
    "            #set the learning rate\n",
    "            eta = 0.03 # HERE YOU HAVE TO SET YOUR OWN LEARNING RATE\n",
    "\n",
    "            #set the maximal iteration count\n",
    "            tmax = 5000 # this might or might not work; use your own convergence criterion\n",
    "\n",
    "\n",
    "\n",
    "            #set the size of the Kohonen map. In this case it will be 6 X 6\n",
    "        #     size_k = 6\n",
    "\n",
    "\n",
    "\n",
    "            #initialise the centers randomly\n",
    "            centers = np.random.rand(size_k**2, dim) * data_range\n",
    "\n",
    "        #     #choose centers as one of the points\n",
    "        #     indx = np.arange(dy)\n",
    "        #     np.random.shuffle(indx)\n",
    "        #     indx = indx[0:36]\n",
    "        #     centers = data[indx,:]\n",
    "\n",
    "            #build a neighborhood matrix\n",
    "            neighbor = np.arange(size_k**2).reshape((size_k, size_k))\n",
    "\n",
    "\n",
    "            #set the random order in which the datapoints should be presented\n",
    "            i_random = np.arange(tmax) % dy\n",
    "            np.random.shuffle(i_random)\n",
    "\n",
    "            for t, i in enumerate(i_random):\n",
    "                prev_centers =  centers\n",
    "                som_step(centers, data[i,:],neighbor,eta,sigma)\n",
    "                delta =  np.linalg.norm(centers - prev_centers,axis = 1)\n",
    "\n",
    "\n",
    "            unit_label = labels[np.argmin(distm.cdist(centers,data),axis=1)]\n",
    "            labels_pred = unit_label[np.argmin(distm.cdist(data_test,centers),axis=1)]\n",
    "            mean_accuracy[ii,jj] = accuracy_score(labels_test,labels_pred)\n",
    "    \n",
    "    print(mean_accuracy)\n",
    "    return mean_accuracy\n",
    "    \n",
    "    \n",
    "            \n",
    "            \n",
    "            \n",
    "            \n",
    "\n",
    "#     print(np.resize(unit_label,(size_k,size_k)))\n",
    "    \n",
    "#     # for visualization, you can use this:\n",
    "#     for i in range(size_k**2):\n",
    "#         plb.subplot(size_k,size_k,i+1)\n",
    "#         plb.imshow(np.reshape(centers[i,:], [28, 28]),interpolation='bilinear')\n",
    "#         plb.axis('off')\n",
    "\n",
    "#     # leave the window open at the end of the loop\n",
    "#     plb.show()\n",
    "#     plb.draw()\n",
    "    \n",
    "       #labels_pred = unit_label[np.argmin(distm.cdist(data_test,centers),axis=1)]\n",
    "#     mean_accuracy = accuracy_score(labels_test,labels_pred)\n",
    "#     print(\"Mean Accuracy {}\".format(mean_accuracy))"
   ]
  },
  {
   "cell_type": "markdown",
   "metadata": {},
   "source": [
    "### 3. Running"
   ]
  },
  {
   "cell_type": "code",
   "execution_count": 19,
   "metadata": {
    "collapsed": false
   },
   "outputs": [
    {
     "name": "stdout",
     "output_type": "stream",
     "text": [
      "Running for Sigma0:0.1 and Unit Size0:6\n",
      "Running for Sigma0:0.1 and Unit Size1:7\n",
      "Running for Sigma0:0.1 and Unit Size2:8\n",
      "Running for Sigma0:0.1 and Unit Size3:9\n",
      "Running for Sigma0:0.1 and Unit Size4:10\n",
      "Running for Sigma1:0.5 and Unit Size0:6\n",
      "Running for Sigma1:0.5 and Unit Size1:7\n",
      "Running for Sigma1:0.5 and Unit Size2:8\n",
      "Running for Sigma1:0.5 and Unit Size3:9\n",
      "Running for Sigma1:0.5 and Unit Size4:10\n",
      "Running for Sigma2:1 and Unit Size0:6\n",
      "Running for Sigma2:1 and Unit Size1:7\n",
      "Running for Sigma2:1 and Unit Size2:8\n",
      "Running for Sigma2:1 and Unit Size3:9\n",
      "Running for Sigma2:1 and Unit Size4:10\n",
      "Running for Sigma3:3 and Unit Size0:6\n",
      "Running for Sigma3:3 and Unit Size1:7\n",
      "Running for Sigma3:3 and Unit Size2:8\n",
      "Running for Sigma3:3 and Unit Size3:9\n",
      "Running for Sigma3:3 and Unit Size4:10\n",
      "Running for Sigma4:5 and Unit Size0:6\n",
      "Running for Sigma4:5 and Unit Size1:7\n",
      "Running for Sigma4:5 and Unit Size2:8\n",
      "Running for Sigma4:5 and Unit Size3:9\n",
      "Running for Sigma4:5 and Unit Size4:10\n",
      "Running for Sigma5:9 and Unit Size0:6\n",
      "Running for Sigma5:9 and Unit Size1:7\n",
      "Running for Sigma5:9 and Unit Size2:8\n",
      "Running for Sigma5:9 and Unit Size3:9\n",
      "Running for Sigma5:9 and Unit Size4:10\n",
      "[[ 0.2675  0.2675  0.2675  0.2675  0.2675]\n",
      " [ 0.91    0.9025  0.9     0.8975  0.9025]\n",
      " [ 0.875   0.8725  0.905   0.92    0.92  ]\n",
      " [ 0.8075  0.7675  0.7825  0.8475  0.805 ]\n",
      " [ 0.4225  0.6575  0.49    0.6525  0.7275]\n",
      " [ 0.2675  0.46    0.485   0.475   0.51  ]]\n"
     ]
    },
    {
     "data": {
      "image/png": "[encoded data removed]",
      "text/plain": [
       "<matplotlib.figure.Figure at 0x1bbce886898>"
      ]
     },
     "metadata": {},
     "output_type": "display_data"
    }
   ],
   "source": [
    "l_sigma = [0.1,0.5,1,3,5,9]\n",
    "l_size = [6,7,8,9,10]\n",
    "\n",
    "mean_accuracy = kohonen_grid(l_sigma,l_size)\n",
    "ax = sns.heatmap(mean_accuracy,xticklabels=l_size,yticklabels=l_sigma)"
   ]
  },
  {
   "cell_type": "code",
   "execution_count": 24,
   "metadata": {
    "collapsed": false
   },
   "outputs": [
    {
     "data": {
      "text/plain": [
       "<matplotlib.text.Text at 0x1bbce929940>"
      ]
     },
     "execution_count": 24,
     "metadata": {},
     "output_type": "execute_result"
    },
    {
     "data": {
      "image/png": "[encoded data removed]",
      "text/plain": [
       "<matplotlib.figure.Figure at 0x1bbce93bac8>"
      ]
     },
     "metadata": {},
     "output_type": "display_data"
    }
   ],
   "source": [
    "ax = sns.heatmap(mean_accuracy,xticklabels=l_size,yticklabels=l_sigma)\n",
    "ax.set_ylabel('Sigma')\n",
    "ax.set_xlabel('Size')\n",
    "ax.set_title('Accuracy over Test Set (4 classes)')"
   ]
  },
  {
   "cell_type": "code",
   "execution_count": 23,
   "metadata": {
    "collapsed": false
   },
   "outputs": [
    {
     "data": {
      "text/plain": [
       "<matplotlib.text.Text at 0x1bbce92ecf8>"
      ]
     },
     "execution_count": 23,
     "metadata": {},
     "output_type": "execute_result"
    }
   ],
   "source": [
    "ax.set_ylabel('Sigma')\n",
    "ax.set_xlabel('Size')\n",
    "ax.set_title('Accuracy over Test Set (4 classes)')"
   ]
  },
  {
   "cell_type": "code",
   "execution_count": 44,
   "metadata": {
    "collapsed": true
   },
   "outputs": [],
   "source": [
    "def kohonen_decay():\n",
    "    \"\"\"Example for using create_data, plot_data and som_step.\n",
    "    \"\"\"\n",
    "    plb.close('all')\n",
    "    \n",
    "    \n",
    "    dim = 28*28\n",
    "    data_range = 255.0\n",
    "     \n",
    "    #default values\n",
    "\n",
    "    #set the width of the neighborhood via the width of the gaussian that\n",
    "    #describes it\n",
    "    sigma0 = 20\n",
    "\n",
    "    #set the learning rate\n",
    "    eta = 0.03 # HERE YOU HAVE TO SET YOUR OWN LEARNING RATE\n",
    "\n",
    "    #set the maximal iteration count\n",
    "    tmax = 5000 # this might or might not work; use your own convergence criterion\n",
    "\n",
    "\n",
    "\n",
    "    #set the size of the Kohonen map. In this case it will be 6 X 6\n",
    "    size_k = 9\n",
    "\n",
    "\n",
    "\n",
    "    #initialise the centers randomly\n",
    "    centers = np.random.rand(size_k**2, dim) * data_range\n",
    "    \n",
    "\n",
    "    #build a neighborhood matrix\n",
    "    neighbor = np.arange(size_k**2).reshape((size_k, size_k))\n",
    "\n",
    "\n",
    "    #set the random order in which the datapoints should be presented\n",
    "    i_random = np.arange(tmax) % dy\n",
    "    np.random.shuffle(i_random)\n",
    "    sigma_learning = 0.1\n",
    "    \n",
    "    for t, i in enumerate(i_random):\n",
    "        prev_centers =  centers\n",
    "        sigma = sigma0-t*(sigma0/tmax)\n",
    "        som_step(centers, data[i,:],neighbor,eta,sigma)\n",
    "        delta =  np.linalg.norm(centers - prev_centers,axis = 1)\n",
    "        \n",
    "        if t%100 == 0:\n",
    "            print(sigma)\n",
    "\n",
    "\n",
    "    unit_label = labels[np.argmin(distm.cdist(centers,data),axis=1)]\n",
    "\n",
    "    print(np.resize(unit_label,(size_k,size_k)))\n",
    "    \n",
    "    # for visualization, you can use this:\n",
    "    for i in range(size_k**2):\n",
    "        plb.subplot(size_k,size_k,i+1)\n",
    "        plb.imshow(np.reshape(centers[i,:], [28, 28]),interpolation='bilinear')\n",
    "        plb.axis('off')\n",
    "\n",
    "    # leave the window open at the end of the loop\n",
    "    plb.show()\n",
    "    plb.draw()\n",
    "    \n",
    "   \n",
    "    labels_pred = unit_label[np.argmin(distm.cdist(data_test,centers),axis=1)]\n",
    "    mean_accuracy = accuracy_score(labels_test,labels_pred)\n",
    "    print(\"Mean Accuracy {}\".format(mean_accuracy))"
   ]
  },
  {
   "cell_type": "code",
   "execution_count": 45,
   "metadata": {
    "collapsed": false
   },
   "outputs": [
    {
     "name": "stdout",
     "output_type": "stream",
     "text": [
      "20.0\n",
      "19.6\n",
      "19.2\n",
      "18.8\n",
      "18.4\n",
      "18.0\n",
      "17.6\n",
      "17.2\n",
      "16.8\n",
      "16.4\n",
      "16.0\n",
      "15.6\n",
      "15.2\n",
      "14.8\n",
      "14.399999999999999\n",
      "14.0\n",
      "13.6\n",
      "13.2\n",
      "12.8\n",
      "12.399999999999999\n",
      "12.0\n",
      "11.6\n",
      "11.2\n",
      "10.799999999999999\n",
      "10.4\n",
      "10.0\n",
      "9.6\n",
      "9.2\n",
      "8.799999999999999\n",
      "8.4\n",
      "8.0\n",
      "7.6\n",
      "7.199999999999999\n",
      "6.799999999999999\n",
      "6.4\n",
      "6.0\n",
      "5.6\n",
      "5.199999999999999\n",
      "4.799999999999999\n",
      "4.4\n",
      "4.0\n",
      "3.6000000000000014\n",
      "3.1999999999999993\n",
      "2.8000000000000007\n",
      "2.3999999999999986\n",
      "2.0\n",
      "1.5999999999999979\n",
      "1.1999999999999993\n",
      "0.8000000000000007\n",
      "0.3999999999999986\n",
      "[[ 6.  6.  6.  6.  1.  1.  1.  1.  1.]\n",
      " [ 6.  6.  6.  6.  1.  1.  1.  1.  1.]\n",
      " [ 6.  6.  5.  5.  5.  1.  1.  1.  1.]\n",
      " [ 6.  5.  5.  5.  5.  1.  1.  1.  1.]\n",
      " [ 5.  5.  5.  5.  5.  5.  1.  1.  1.]\n",
      " [ 5.  5.  5.  5.  4.  4.  4.  4.  4.]\n",
      " [ 5.  6.  4.  4.  4.  4.  4.  4.  4.]\n",
      " [ 6.  6.  4.  4.  4.  4.  4.  4.  4.]\n",
      " [ 6.  6.  4.  4.  4.  4.  4.  4.  4.]]\n"
     ]
    },
    {
     "data": {
      "image/png": "[encoded data removed]",
      "text/plain": [
       "<matplotlib.figure.Figure at 0x1bbcfe294e0>"
      ]
     },
     "metadata": {},
     "output_type": "display_data"
    },
    {
     "name": "stdout",
     "output_type": "stream",
     "text": [
      "Mean Accuracy 0.9025\n"
     ]
    },
    {
     "data": {
      "text/plain": [
       "<matplotlib.figure.Figure at 0x1bbcffc0668>"
      ]
     },
     "metadata": {},
     "output_type": "display_data"
    }
   ],
   "source": [
    "kohonen_decay()"
   ]
  },
  {
   "cell_type": "code",
   "execution_count": null,
   "metadata": {
    "collapsed": true
   },
   "outputs": [],
   "source": []
  }
 ],
 "metadata": {
  "anaconda-cloud": {},
  "kernelspec": {
   "display_name": "Python [conda root]",
   "language": "python",
   "name": "conda-root-py"
  },
  "language_info": {
   "codemirror_mode": {
    "name": "ipython",
    "version": 3
   },
   "file_extension": ".py",
   "mimetype": "text/x-python",
   "name": "python",
   "nbconvert_exporter": "python",
   "pygments_lexer": "ipython3",
   "version": "3.5.2"
  }
 },
 "nbformat": 4,
 "nbformat_minor": 1
}
